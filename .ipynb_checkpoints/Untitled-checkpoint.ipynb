{
 "cells": [
  {
   "cell_type": "markdown",
   "id": "4db8c756",
   "metadata": {},
   "source": [
    "## 1) Build a Shopping Cart"
   ]
  },
  {
   "cell_type": "markdown",
   "id": "81e8feb5",
   "metadata": {},
   "source": [
    "You can use either lists or dictionaries. The program should have the following capabilities:\n",
    "\n",
    "<br>1) Takes in input\n",
    "<br>2) Stores user input into a dictionary or list\n",
    "<br>3) The User can add or delete items\n",
    "<br>4) The User can see current shopping list\n",
    "<br>5) The program Loops until user 'quits'\n",
    "<br>6) Upon quiting the program, print out all items in the user's list"
   ]
  },
  {
   "cell_type": "code",
   "execution_count": 42,
   "id": "f58b1b68",
   "metadata": {},
   "outputs": [
    {
     "name": "stdout",
     "output_type": "stream",
     "text": [
      "What would you like to do? \n",
      "'Shop' 'View Cart' 'Remove Item' 'Clean Cart' 'Check Out' 'Quit'\n",
      "view cart\n",
      "\n",
      "Your shopping cart: \n",
      "Orange: 5 * $3.0\n",
      "Apple: 3 * $1.0\n",
      "Grapes: 1 * $5.0\n",
      "What would you like to do? \n",
      "'Shop' 'View Cart' 'Remove Item' 'Clean Cart' 'Check Out' 'Quit'\n",
      "remove item\n",
      "\n",
      "Which item would you like to remove? grapes\n",
      "\n",
      "Would you like to delete another item? \n",
      "'Yes' or 'No'\n",
      "no\n",
      "What would you like to do? \n",
      "'Shop' 'View Cart' 'Remove Item' 'Clean Cart' 'Check Out' 'Quit'\n",
      "check out\n",
      "===============\n",
      "Your Total\n",
      "===============\n",
      "Orange: 5 * $3.0 = $15.0\n",
      "----------\n",
      "Total: $15.0\n",
      "Apple: 3 * $1.0 = $3.0\n",
      "----------\n",
      "Total: $18.0\n",
      "What would you like to do? \n",
      "'Shop' 'View Cart' 'Remove Item' 'Clean Cart' 'Check Out' 'Quit'\n",
      "clean cart\n",
      "YOUR CART IS EMPTY!\n",
      "What would you like to do? \n",
      "'Shop' 'View Cart' 'Remove Item' 'Clean Cart' 'Check Out' 'Quit'\n",
      "quit\n",
      "----------\n",
      "Total: $0\n",
      "cart is empty\n"
     ]
    },
    {
     "data": {
      "text/plain": [
       "'Thank you for visiting!'"
      ]
     },
     "execution_count": 42,
     "metadata": {},
     "output_type": "execute_result"
    }
   ],
   "source": [
    "from IPython.display import clear_output\n",
    "\n",
    "# Ask the user 5 bits of input: Do you want to : Show/Add/Delete/clear or Quit?\n",
    "\n",
    "# If you can make it work for one run through of the process, then you can make it work within a loop\n",
    "\n",
    "# Use your notes and reference material!\n",
    "\n",
    "# Plan ahead!\n",
    "\n",
    "# Go step by step!\n",
    "\n",
    "# Make show work\n",
    "\n",
    "# Then make add work\n",
    "\n",
    "# Then make clear work\n",
    "\n",
    "# Then make delete work\n",
    "\n",
    "# Then make quitting work\n",
    "\n",
    "# Then throw everything in a loop :)\n",
    "cart = {}\n",
    "\n",
    "def shopping_cart():\n",
    "    \n",
    "    #step 1 - create a while loop that loop trough all the options\n",
    "    while True:\n",
    "        #step 2 - first input\n",
    "        ask = input(\"What would you like to do? \\n'Shop' 'View Cart' 'Remove Item' 'Clean Cart' 'Check Out' 'Quit'\\n\").title()\n",
    "        # step 3 - first contidion to check what user wants to do\n",
    "        if ask == 'Quit':\n",
    "            item_total = []\n",
    "            for key in cart:\n",
    "                total = cart[key][0] * cart[key][1]\n",
    "                item_total.append(total)\n",
    "                print(f'{key.title()}: {cart[key][0]} * ${cart[key][1]} = ${total}')\n",
    "            total_cost = sum(item_total)\n",
    "            print('-'*10)\n",
    "            print('Total: $' + str(total_cost))\n",
    "            if total_cost == 0:\n",
    "                print('Cart is empty!')\n",
    "            break\n",
    "            \n",
    "        elif ask == 'Shop':\n",
    "            item = input(\"What would you like to get? \").title()\n",
    "            price = float(input(f\"Price of the {item} is $\"))\n",
    "            quantity = int(input(f'How many {item} would you like to get? '))\n",
    "            cart[item] = [quantity, price] #\n",
    "            clear_output()\n",
    " \n",
    "        elif ask == 'View Cart':\n",
    "            print(f'\\nYour shopping cart: ')\n",
    "            for item in cart:\n",
    "                print(f'{item.title()}: {cart[item][0]} * ${cart[item][1]}') #burada dictionary'in icinde liste yaptigim icin anahtar kelimeden index cikariyorum\n",
    "            \n",
    "        elif ask == 'Remove Item':\n",
    "                while True:\n",
    "                    response = input('\\nWhich item would you like to remove? ').title()\n",
    "                    del cart[response]\n",
    "                    second_response = input(\"\\nWould you like to delete another item? \\n'Yes' or 'No'\\n\").title()\n",
    "                    if second_response == 'No':\n",
    "                        break\n",
    "                \n",
    "        elif ask == 'Clean Cart':\n",
    "            cart.clear()\n",
    "            print('YOUR CART IS EMPTY!')\n",
    "            \n",
    "        elif ask == 'Check Out':\n",
    "            print(\"=\"*15)\n",
    "            print(\"Your Total\")\n",
    "            print(\"=\"*15)\n",
    "            item_total = []\n",
    "            for key in cart:\n",
    "                total = cart[key][0] * cart[key][1] #burada key item da olabilirdi sadece karisiklik olmasin diye\n",
    "                item_total.append(total)\n",
    "                print(f'{key.title()}: {cart[key][0]} * ${cart[key][1]} = ${total}')\n",
    "                total_cost = sum(item_total)\n",
    "                print('-'*10)\n",
    "                print('Total: $' + str(total_cost))\n",
    "            \n",
    "        else:\n",
    "            print('PLEASE CHOOSE A VALID ANSWER!')\n",
    "            \n",
    "    return \"Thank you for visiting!\"\n",
    "cart_1 = shopping_cart()\n",
    "cart_1"
   ]
  },
  {
   "cell_type": "markdown",
   "id": "eb4f3e20",
   "metadata": {},
   "source": [
    "## 2) Create a Module in VS Code and Import It into jupyter notebook"
   ]
  },
  {
   "cell_type": "markdown",
   "id": "c2c32ed8",
   "metadata": {},
   "source": [
    "__Module should have the following capabilities:__\n",
    "\n",
    "<br>__1)__ Has a function to calculate the square footage of a house\n",
    "Reminder of Formula: Length X Width == Area\n",
    "\n"
   ]
  },
  {
   "cell_type": "code",
   "execution_count": 5,
   "id": "db6ca2a6",
   "metadata": {},
   "outputs": [
    {
     "data": {
      "text/plain": [
       "12"
      ]
     },
     "execution_count": 5,
     "metadata": {},
     "output_type": "execute_result"
    }
   ],
   "source": [
    "from geometry import area\n",
    "area(3, 4)"
   ]
  },
  {
   "cell_type": "markdown",
   "id": "2380c758",
   "metadata": {},
   "source": [
    "__2)__ Has a function to calculate the circumference of a circle\n",
    "\n",
    "Program in Jupyter Notebook should take in user input and use imported functions to calculate a circle's circumference or a houses square footage"
   ]
  },
  {
   "cell_type": "code",
   "execution_count": 10,
   "id": "ac9140c4",
   "metadata": {},
   "outputs": [
    {
     "data": {
      "text/plain": [
       "20"
      ]
     },
     "execution_count": 10,
     "metadata": {},
     "output_type": "execute_result"
    }
   ],
   "source": [
    "area(4,5)"
   ]
  },
  {
   "cell_type": "code",
   "execution_count": 14,
   "id": "67b611b8",
   "metadata": {},
   "outputs": [
    {
     "ename": "NameError",
     "evalue": "name 'cir' is not defined",
     "output_type": "error",
     "traceback": [
      "\u001b[0;31m---------------------------------------------------------------------------\u001b[0m",
      "\u001b[0;31mNameError\u001b[0m                                 Traceback (most recent call last)",
      "\u001b[0;32m<ipython-input-14-e3f12aa6359d>\u001b[0m in \u001b[0;36m<module>\u001b[0;34m\u001b[0m\n\u001b[1;32m      1\u001b[0m \u001b[0;32mimport\u001b[0m \u001b[0mgeometry\u001b[0m\u001b[0;34m\u001b[0m\u001b[0;34m\u001b[0m\u001b[0m\n\u001b[0;32m----> 2\u001b[0;31m \u001b[0mcir\u001b[0m\u001b[0;34m(\u001b[0m\u001b[0;36m5\u001b[0m\u001b[0;34m)\u001b[0m\u001b[0;34m\u001b[0m\u001b[0;34m\u001b[0m\u001b[0m\n\u001b[0m",
      "\u001b[0;31mNameError\u001b[0m: name 'cir' is not defined"
     ]
    }
   ],
   "source": [
    "import geometry\n",
    "circumference(5)"
   ]
  },
  {
   "cell_type": "code",
   "execution_count": null,
   "id": "92885061",
   "metadata": {},
   "outputs": [],
   "source": []
  }
 ],
 "metadata": {
  "kernelspec": {
   "display_name": "Python 3",
   "language": "python",
   "name": "python3"
  },
  "language_info": {
   "codemirror_mode": {
    "name": "ipython",
    "version": 3
   },
   "file_extension": ".py",
   "mimetype": "text/x-python",
   "name": "python",
   "nbconvert_exporter": "python",
   "pygments_lexer": "ipython3",
   "version": "3.8.8"
  }
 },
 "nbformat": 4,
 "nbformat_minor": 5
}
